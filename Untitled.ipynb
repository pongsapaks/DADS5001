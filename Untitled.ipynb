{
 "cells": [
  {
   "cell_type": "code",
   "execution_count": null,
   "id": "37c63e80",
   "metadata": {},
   "outputs": [],
   "source": [
    "x = input('Enter inputs words (each word must be seperated by space)\\n>> ')\n",
    "list(x.split())\n",
    "if:\n",
    "    pass\n",
    "print"
   ]
  },
  {
   "cell_type": "code",
   "execution_count": null,
   "id": "c37db783",
   "metadata": {},
   "outputs": [],
   "source": [
    "x.split()\n",
    "len(x)"
   ]
  },
  {
   "cell_type": "code",
   "execution_count": 1,
   "id": "950b170b",
   "metadata": {},
   "outputs": [
    {
     "name": "stdout",
     "output_type": "stream",
     "text": [
      "Enter inputs words (each word must be seperated by space)\n",
      "ad soo jj\n"
     ]
    }
   ],
   "source": [
    "x = input('Enter inputs words (each word must be seperated by space)\\n')"
   ]
  },
  {
   "cell_type": "code",
   "execution_count": null,
   "id": "87f911a5",
   "metadata": {},
   "outputs": [],
   "source": [
    "sep = x.split( )"
   ]
  },
  {
   "cell_type": "code",
   "execution_count": null,
   "id": "558d6258",
   "metadata": {},
   "outputs": [],
   "source": [
    "len(sep)"
   ]
  },
  {
   "cell_type": "code",
   "execution_count": null,
   "id": "da7db51d",
   "metadata": {},
   "outputs": [],
   "source": [
    "for i in range(len(sep)):\n",
    "    print(i)"
   ]
  },
  {
   "cell_type": "code",
   "execution_count": 8,
   "id": "1fd74965",
   "metadata": {},
   "outputs": [
    {
     "data": {
      "text/plain": [
       "3"
      ]
     },
     "execution_count": 8,
     "metadata": {},
     "output_type": "execute_result"
    }
   ],
   "source": []
  },
  {
   "cell_type": "code",
   "execution_count": null,
   "id": "4f30b74f",
   "metadata": {},
   "outputs": [],
   "source": []
  }
 ],
 "metadata": {
  "kernelspec": {
   "display_name": "base",
   "language": "python",
   "name": "python3"
  },
  "language_info": {
   "codemirror_mode": {
    "name": "ipython",
    "version": 3
   },
   "file_extension": ".py",
   "mimetype": "text/x-python",
   "name": "python",
   "nbconvert_exporter": "python",
   "pygments_lexer": "ipython3",
   "version": "3.9.12"
  },
  "vscode": {
   "interpreter": {
    "hash": "941de9af7e12515adfa10fc680561d02424d93b56738304a307b86d45a408bbf"
   }
  }
 },
 "nbformat": 4,
 "nbformat_minor": 5
}
