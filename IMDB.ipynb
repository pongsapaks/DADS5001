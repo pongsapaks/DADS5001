{
 "cells": [
  {
   "cell_type": "code",
   "execution_count": 38,
   "id": "37c63e80",
   "metadata": {},
   "outputs": [
    {
     "name": "stdout",
     "output_type": "stream",
     "text": [
      "Python 3.9.12 (main, Jun  1 2022, 06:34:44) \n",
      "[Clang 12.0.0 ]\n",
      "Pandas 1.5.2\n",
      "NumPy 1.22.4\n"
     ]
    },
    {
     "data": {
      "text/plain": [
       "(5043, 28)"
      ]
     },
     "execution_count": 38,
     "metadata": {},
     "output_type": "execute_result"
    }
   ],
   "source": [
    "import sys\n",
    "import pandas as pd\n",
    "import numpy as np\n",
    "import matplotlib as mpl\n",
    "\n",
    "print( f\"Python {sys.version}\\nPandas {pd.__version__}\\nNumPy {np.__version__}\" ) \n",
    "# Load the pokemon dataset\n",
    "df = pd.read_csv('movie_metadata.csv')  \n",
    "df.shape"
   ]
  },
  {
   "cell_type": "code",
   "execution_count": 39,
   "id": "c27edca1",
   "metadata": {},
   "outputs": [],
   "source": [
    "#1. ปัจจัยที่ส่งผลต่อ ค่าrating IMDB (runtime, actor, director, etc. )\n",
    "df = df.dropna()\n",
    "df = df.reset_index(drop=True)\n",
    "df = df.isnull\n"
   ]
  },
  {
   "cell_type": "code",
   "execution_count": 40,
   "id": "7f43916d",
   "metadata": {},
   "outputs": [
    {
     "data": {
      "text/plain": [
       "<bound method DataFrame.isnull of       color      director_name  num_critic_for_reviews  duration  \\\n",
       "0     Color      James Cameron                   723.0     178.0   \n",
       "1     Color     Gore Verbinski                   302.0     169.0   \n",
       "2     Color         Sam Mendes                   602.0     148.0   \n",
       "3     Color  Christopher Nolan                   813.0     164.0   \n",
       "4     Color     Andrew Stanton                   462.0     132.0   \n",
       "...     ...                ...                     ...       ...   \n",
       "3751  Color    Olivier Assayas                    81.0     110.0   \n",
       "3752  Color       Jafar Panahi                    64.0      90.0   \n",
       "3753  Color      Shane Carruth                   143.0      77.0   \n",
       "3754  Color   Robert Rodriguez                    56.0      81.0   \n",
       "3755  Color           Jon Gunn                    43.0      90.0   \n",
       "\n",
       "      director_facebook_likes  actor_3_facebook_likes       actor_2_name  \\\n",
       "0                         0.0                   855.0   Joel David Moore   \n",
       "1                       563.0                  1000.0      Orlando Bloom   \n",
       "2                         0.0                   161.0       Rory Kinnear   \n",
       "3                     22000.0                 23000.0     Christian Bale   \n",
       "4                       475.0                   530.0    Samantha Morton   \n",
       "...                       ...                     ...                ...   \n",
       "3751                    107.0                    45.0     Béatrice Dalle   \n",
       "3752                    397.0                     0.0  Nargess Mamizadeh   \n",
       "3753                    291.0                     8.0     David Sullivan   \n",
       "3754                      0.0                     6.0    Peter Marquardt   \n",
       "3755                     16.0                    16.0   Brian Herzlinger   \n",
       "\n",
       "      actor_1_facebook_likes        gross  \\\n",
       "0                     1000.0  760505847.0   \n",
       "1                    40000.0  309404152.0   \n",
       "2                    11000.0  200074175.0   \n",
       "3                    27000.0  448130642.0   \n",
       "4                      640.0   73058679.0   \n",
       "...                      ...          ...   \n",
       "3751                   576.0     136007.0   \n",
       "3752                     5.0     673780.0   \n",
       "3753                   291.0     424760.0   \n",
       "3754                   121.0    2040920.0   \n",
       "3755                    86.0      85222.0   \n",
       "\n",
       "                                   genres  ... num_user_for_reviews language  \\\n",
       "0         Action|Adventure|Fantasy|Sci-Fi  ...               3054.0  English   \n",
       "1                Action|Adventure|Fantasy  ...               1238.0  English   \n",
       "2               Action|Adventure|Thriller  ...                994.0  English   \n",
       "3                         Action|Thriller  ...               2701.0  English   \n",
       "4                 Action|Adventure|Sci-Fi  ...                738.0  English   \n",
       "...                                   ...  ...                  ...      ...   \n",
       "3751                  Drama|Music|Romance  ...                 39.0   French   \n",
       "3752                                Drama  ...                 26.0  Persian   \n",
       "3753                Drama|Sci-Fi|Thriller  ...                371.0  English   \n",
       "3754  Action|Crime|Drama|Romance|Thriller  ...                130.0  Spanish   \n",
       "3755                          Documentary  ...                 84.0  English   \n",
       "\n",
       "      country  content_rating       budget  title_year actor_2_facebook_likes  \\\n",
       "0         USA           PG-13  237000000.0      2009.0                  936.0   \n",
       "1         USA           PG-13  300000000.0      2007.0                 5000.0   \n",
       "2          UK           PG-13  245000000.0      2015.0                  393.0   \n",
       "3         USA           PG-13  250000000.0      2012.0                23000.0   \n",
       "4         USA           PG-13  263700000.0      2012.0                  632.0   \n",
       "...       ...             ...          ...         ...                    ...   \n",
       "3751   France               R       4500.0      2004.0                  133.0   \n",
       "3752     Iran       Not Rated      10000.0      2000.0                    0.0   \n",
       "3753      USA           PG-13       7000.0      2004.0                   45.0   \n",
       "3754      USA               R       7000.0      1992.0                   20.0   \n",
       "3755      USA              PG       1100.0      2004.0                   23.0   \n",
       "\n",
       "     imdb_score  aspect_ratio movie_facebook_likes  \n",
       "0           7.9          1.78                33000  \n",
       "1           7.1          2.35                    0  \n",
       "2           6.8          2.35                85000  \n",
       "3           8.5          2.35               164000  \n",
       "4           6.6          2.35                24000  \n",
       "...         ...           ...                  ...  \n",
       "3751        6.9          2.35                  171  \n",
       "3752        7.5          1.85                  697  \n",
       "3753        7.0          1.85                19000  \n",
       "3754        6.9          1.37                    0  \n",
       "3755        6.6          1.85                  456  \n",
       "\n",
       "[3756 rows x 28 columns]>"
      ]
     },
     "execution_count": 40,
     "metadata": {},
     "output_type": "execute_result"
    }
   ],
   "source": [
    "df"
   ]
  },
  {
   "cell_type": "code",
   "execution_count": 45,
   "id": "29d57dbc",
   "metadata": {},
   "outputs": [
    {
     "ename": "AttributeError",
     "evalue": "'function' object has no attribute 'loc'",
     "output_type": "error",
     "traceback": [
      "\u001b[0;31m---------------------------------------------------------------------------\u001b[0m",
      "\u001b[0;31mAttributeError\u001b[0m                            Traceback (most recent call last)",
      "Cell \u001b[0;32mIn[45], line 1\u001b[0m\n\u001b[0;32m----> 1\u001b[0m df \u001b[39m=\u001b[39m df\u001b[39m.\u001b[39;49mloc[df[\u001b[39m'\u001b[39m\u001b[39mactor_3_facebook_likes\u001b[39m\u001b[39m'\u001b[39m] \u001b[39m==\u001b[39m \u001b[39m0\u001b[39m]\n",
      "\u001b[0;31mAttributeError\u001b[0m: 'function' object has no attribute 'loc'"
     ]
    }
   ],
   "source": [
    "df = df.loc[df['actor_3_facebook_likes'] == 0]\n",
    "\n"
   ]
  },
  {
   "cell_type": "code",
   "execution_count": null,
   "id": "bcc51ff9",
   "metadata": {},
   "outputs": [],
   "source": [
    "#2. หนังประเภทไหน มีbudget ในการทำสูง\n"
   ]
  },
  {
   "cell_type": "code",
   "execution_count": null,
   "id": "13f21388",
   "metadata": {},
   "outputs": [],
   "source": [
    "#3. หนังที่มี budget สูง จะมี gross profit สูงตามหรือไม่ มี margin เท่าไหร่"
   ]
  },
  {
   "cell_type": "code",
   "execution_count": null,
   "id": "caf946fc",
   "metadata": {},
   "outputs": [],
   "source": [
    "#4.หนังของประเทศไหน ได้รับความนิยมสูง"
   ]
  },
  {
   "cell_type": "code",
   "execution_count": null,
   "id": "ce123b2f",
   "metadata": {},
   "outputs": [],
   "source": [
    "#5. เทรนด์หนัง ในแต่ละปี"
   ]
  }
 ],
 "metadata": {
  "kernelspec": {
   "display_name": "base",
   "language": "python",
   "name": "python3"
  },
  "language_info": {
   "codemirror_mode": {
    "name": "ipython",
    "version": 3
   },
   "file_extension": ".py",
   "mimetype": "text/x-python",
   "name": "python",
   "nbconvert_exporter": "python",
   "pygments_lexer": "ipython3",
   "version": "3.9.12"
  },
  "vscode": {
   "interpreter": {
    "hash": "941de9af7e12515adfa10fc680561d02424d93b56738304a307b86d45a408bbf"
   }
  }
 },
 "nbformat": 4,
 "nbformat_minor": 5
}
