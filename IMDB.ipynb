{
 "cells": [
  {
   "cell_type": "code",
   "execution_count": 28,
   "id": "37c63e80",
   "metadata": {},
   "outputs": [
    {
     "name": "stdout",
     "output_type": "stream",
     "text": [
      "Python 3.11.2 (main, Feb 16 2023, 02:55:59) [Clang 14.0.0 (clang-1400.0.29.202)]\n",
      "Pandas 1.5.3\n",
      "NumPy 1.24.2\n"
     ]
    },
    {
     "data": {
      "text/plain": [
       "(5043, 28)"
      ]
     },
     "execution_count": 28,
     "metadata": {},
     "output_type": "execute_result"
    }
   ],
   "source": [
    "import sys\n",
    "import pandas as pd\n",
    "import numpy as np\n",
    "import matplotlib as mpl\n",
    "\n",
    "print( f\"Python {sys.version}\\nPandas {pd.__version__}\\nNumPy {np.__version__}\" ) \n",
    "# Load the pokemon dataset\n",
    "df = pd.read_csv('movie_metadata.csv')  \n",
    "df.shape"
   ]
  },
  {
   "cell_type": "code",
   "execution_count": 29,
   "id": "62ff427a",
   "metadata": {},
   "outputs": [
    {
     "name": "stdout",
     "output_type": "stream",
     "text": [
      "Percentage Of Missing Values\n"
     ]
    },
    {
     "data": {
      "text/plain": [
       "color                       0.376760\n",
       "director_name               2.062265\n",
       "num_critic_for_reviews      0.991473\n",
       "duration                    0.297442\n",
       "director_facebook_likes     2.062265\n",
       "actor_3_facebook_likes      0.456078\n",
       "actor_2_name                0.257783\n",
       "actor_1_facebook_likes      0.138806\n",
       "gross                      17.529248\n",
       "actor_1_name                0.138806\n",
       "actor_3_name                0.456078\n",
       "facenumber_in_poster        0.257783\n",
       "plot_keywords               3.033908\n",
       "num_user_for_reviews        0.416419\n",
       "language                    0.237954\n",
       "country                     0.099147\n",
       "content_rating              6.008328\n",
       "budget                      9.756098\n",
       "title_year                  2.141582\n",
       "actor_2_facebook_likes      0.257783\n",
       "aspect_ratio                6.523895\n",
       "dtype: float64"
      ]
     },
     "execution_count": 29,
     "metadata": {},
     "output_type": "execute_result"
    }
   ],
   "source": [
    "print(\"Percentage Of Missing Values\")\n",
    "Perc_Of_Missing_Values=df.isna().sum()/len(df)*100\n",
    "Perc_Of_Missing_Values[Perc_Of_Missing_Values!=0]"
   ]
  },
  {
   "cell_type": "code",
   "execution_count": 30,
   "id": "c27edca1",
   "metadata": {},
   "outputs": [
    {
     "data": {
      "text/plain": [
       "(3756, 28)"
      ]
     },
     "execution_count": 30,
     "metadata": {},
     "output_type": "execute_result"
    }
   ],
   "source": [
    "#1. ปัจจัยที่ส่งผลต่อ ค่าrating IMDB (runtime, actor, director, etc. )\n",
    "df = df.dropna()\n",
    "df = df.reset_index(drop=True)\n",
    "df.shape\n"
   ]
  },
  {
   "cell_type": "code",
   "execution_count": null,
   "id": "7f43916d",
   "metadata": {},
   "outputs": [],
   "source": [
    "df"
   ]
  },
  {
   "cell_type": "code",
   "execution_count": null,
   "id": "15e4183f",
   "metadata": {},
   "outputs": [],
   "source": [
    "df['actor_2_name'].unique()"
   ]
  },
  {
   "cell_type": "code",
   "execution_count": null,
   "id": "715a8e23",
   "metadata": {},
   "outputs": [],
   "source": [
    "df_select = df.drop(['num_critic_for_reviews','director_facebook_likes','actor_3_facebook_likes','actor_1_facebook_likes','cast_total_facebook_likes','facenumber_in_poster','movie_imdb_link','num_user_for_reviews','actor_2_facebook_likes','aspect_ratio','movie_facebook_likes'], axis=1)"
   ]
  },
  {
   "cell_type": "code",
   "execution_count": null,
   "id": "020f7c6b",
   "metadata": {},
   "outputs": [],
   "source": [
    "df_select.sort_values('imdb_score', ascending=False )['imdb_score'].unique()"
   ]
  },
  {
   "cell_type": "code",
   "execution_count": null,
   "id": "a8ab55ff",
   "metadata": {},
   "outputs": [],
   "source": [
    "dfsort = df.sort_values( 'title_year', ascending=False )['title_year'].unique()"
   ]
  },
  {
   "cell_type": "code",
   "execution_count": null,
   "id": "c368f61e",
   "metadata": {},
   "outputs": [],
   "source": [
    "dfsort"
   ]
  },
  {
   "cell_type": "code",
   "execution_count": null,
   "id": "aa4a8e54",
   "metadata": {},
   "outputs": [],
   "source": [
    "df1 = df[df['movie_facebook_likes'] != 0]\n"
   ]
  },
  {
   "cell_type": "code",
   "execution_count": null,
   "id": "29d57dbc",
   "metadata": {},
   "outputs": [],
   "source": [
    "df2 = df[df['imdb_score'] == 0]\n"
   ]
  },
  {
   "cell_type": "code",
   "execution_count": null,
   "id": "bcc51ff9",
   "metadata": {},
   "outputs": [],
   "source": [
    "#2. หนังประเภทไหน มีbudget ในการทำสูง\n",
    "df2_split = df['genres'].str.split('|', expand=True)\n",
    "df2_split\n"
   ]
  },
  {
   "cell_type": "code",
   "execution_count": null,
   "id": "6e51b81a",
   "metadata": {},
   "outputs": [],
   "source": [
    "column_data = df2_split.iloc[:, 7]\n",
    "column_data"
   ]
  },
  {
   "cell_type": "code",
   "execution_count": null,
   "id": "2b47259b",
   "metadata": {},
   "outputs": [],
   "source": []
  },
  {
   "cell_type": "code",
   "execution_count": null,
   "id": "6f12f18b",
   "metadata": {},
   "outputs": [],
   "source": [
    "column_data.unique()"
   ]
  },
  {
   "cell_type": "code",
   "execution_count": null,
   "id": "13f21388",
   "metadata": {},
   "outputs": [],
   "source": [
    "#3. หนังที่มี budget สูง จะมี gross profit สูงตามหรือไม่ มี margin เท่าไหร่\n",
    "df['gross'].plot()   "
   ]
  },
  {
   "cell_type": "code",
   "execution_count": null,
   "id": "682c1395",
   "metadata": {},
   "outputs": [],
   "source": []
  },
  {
   "cell_type": "code",
   "execution_count": null,
   "id": "caf946fc",
   "metadata": {},
   "outputs": [],
   "source": [
    "#4.หนังของประเทศไหน ได้รับความนิยมสูง\n",
    "p_country = df.loc[:,['country','imdb_score']]\n",
    "p_country.plot()"
   ]
  },
  {
   "cell_type": "code",
   "execution_count": null,
   "id": "ce123b2f",
   "metadata": {},
   "outputs": [],
   "source": [
    "#5. เทรนด์หนัง ในแต่ละปี\n"
   ]
  }
 ],
 "metadata": {
  "kernelspec": {
   "display_name": "Python 3",
   "language": "python",
   "name": "python3"
  },
  "language_info": {
   "codemirror_mode": {
    "name": "ipython",
    "version": 3
   },
   "file_extension": ".py",
   "mimetype": "text/x-python",
   "name": "python",
   "nbconvert_exporter": "python",
   "pygments_lexer": "ipython3",
   "version": "3.11.2"
  },
  "vscode": {
   "interpreter": {
    "hash": "b0fa6594d8f4cbf19f97940f81e996739fb7646882a419484c72d19e05852a7e"
   }
  }
 },
 "nbformat": 4,
 "nbformat_minor": 5
}
